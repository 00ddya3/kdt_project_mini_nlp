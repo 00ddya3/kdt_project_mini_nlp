{
 "cells": [
  {
   "cell_type": "code",
   "execution_count": 59,
   "metadata": {},
   "outputs": [],
   "source": [
    "from collections import Counter\n",
    "\n",
    "import pandas as pd\n",
    "import seaborn as sns\n",
    "import matplotlib.pyplot as plt\n",
    "import numpy as np\n",
    "\n",
    "from konlpy.tag import Okt\n",
    "\n",
    "from source.lib import STOP_WORDS\n",
    "\n",
    "from tensorflow.keras.layers import Embedding, Dense, LSTM\n",
    "from tensorflow.keras.models import Sequential\n",
    "from tensorflow.keras.models import load_model\n",
    "from tensorflow.keras.callbacks import EarlyStopping, ModelCheckpoint\n",
    "\n",
    "from tensorflow.keras.preprocessing.text import Tokenizer\n",
    "from tensorflow.keras.preprocessing.sequence import pad_sequences"
   ]
  },
  {
   "cell_type": "code",
   "execution_count": 60,
   "metadata": {},
   "outputs": [],
   "source": [
    "# testing\n",
    "df = pd.read_csv('./data/processed/df.csv')"
   ]
  },
  {
   "cell_type": "code",
   "execution_count": 61,
   "metadata": {},
   "outputs": [
    {
     "data": {
      "text/html": [
       "<div>\n",
       "<style scoped>\n",
       "    .dataframe tbody tr th:only-of-type {\n",
       "        vertical-align: middle;\n",
       "    }\n",
       "\n",
       "    .dataframe tbody tr th {\n",
       "        vertical-align: top;\n",
       "    }\n",
       "\n",
       "    .dataframe thead th {\n",
       "        text-align: right;\n",
       "    }\n",
       "</style>\n",
       "<table border=\"1\" class=\"dataframe\">\n",
       "  <thead>\n",
       "    <tr style=\"text-align: right;\">\n",
       "      <th></th>\n",
       "      <th>review</th>\n",
       "      <th>score</th>\n",
       "      <th>sentiment</th>\n",
       "    </tr>\n",
       "  </thead>\n",
       "  <tbody>\n",
       "    <tr>\n",
       "      <th>0</th>\n",
       "      <td>판타지를 넘어 영화 역사에 남을 명작이다 내가 이걸 왜 극장에서 못봤을까 폰으로 봤...</td>\n",
       "      <td>10.0</td>\n",
       "      <td>1.0</td>\n",
       "    </tr>\n",
       "    <tr>\n",
       "      <th>1</th>\n",
       "      <td>이집트여행하는느낌의 영화</td>\n",
       "      <td>8.0</td>\n",
       "      <td>1.0</td>\n",
       "    </tr>\n",
       "    <tr>\n",
       "      <th>2</th>\n",
       "      <td>목포 연설 장면은 넋을 잃고 보게 된다</td>\n",
       "      <td>10.0</td>\n",
       "      <td>1.0</td>\n",
       "    </tr>\n",
       "  </tbody>\n",
       "</table>\n",
       "</div>"
      ],
      "text/plain": [
       "                                              review  score  sentiment\n",
       "0  판타지를 넘어 영화 역사에 남을 명작이다 내가 이걸 왜 극장에서 못봤을까 폰으로 봤...   10.0        1.0\n",
       "1                                      이집트여행하는느낌의 영화    8.0        1.0\n",
       "2                              목포 연설 장면은 넋을 잃고 보게 된다   10.0        1.0"
      ]
     },
     "execution_count": 61,
     "metadata": {},
     "output_type": "execute_result"
    }
   ],
   "source": [
    "df.head(3)"
   ]
  },
  {
   "cell_type": "code",
   "execution_count": 62,
   "metadata": {},
   "outputs": [
    {
     "data": {
      "text/html": [
       "<div>\n",
       "<style scoped>\n",
       "    .dataframe tbody tr th:only-of-type {\n",
       "        vertical-align: middle;\n",
       "    }\n",
       "\n",
       "    .dataframe tbody tr th {\n",
       "        vertical-align: top;\n",
       "    }\n",
       "\n",
       "    .dataframe thead th {\n",
       "        text-align: right;\n",
       "    }\n",
       "</style>\n",
       "<table border=\"1\" class=\"dataframe\">\n",
       "  <thead>\n",
       "    <tr style=\"text-align: right;\">\n",
       "      <th></th>\n",
       "      <th>review</th>\n",
       "      <th>score</th>\n",
       "      <th>sentiment</th>\n",
       "    </tr>\n",
       "  </thead>\n",
       "  <tbody>\n",
       "    <tr>\n",
       "      <th>9328</th>\n",
       "      <td>그래도 최근에 나왔던 영화들에 비해 내용이 되게 흥미진진했음 리암 니슨이 덜뛰는 대...</td>\n",
       "      <td>10.0</td>\n",
       "      <td>1.0</td>\n",
       "    </tr>\n",
       "    <tr>\n",
       "      <th>9329</th>\n",
       "      <td>누구나 시작은 어설픈 법 그래서 더 매력적인 히어로</td>\n",
       "      <td>10.0</td>\n",
       "      <td>1.0</td>\n",
       "    </tr>\n",
       "    <tr>\n",
       "      <th>9330</th>\n",
       "      <td>병과 싸우기 위해서는 공부해야 한다</td>\n",
       "      <td>7.0</td>\n",
       "      <td>0.0</td>\n",
       "    </tr>\n",
       "  </tbody>\n",
       "</table>\n",
       "</div>"
      ],
      "text/plain": [
       "                                                 review  score  sentiment\n",
       "9328  그래도 최근에 나왔던 영화들에 비해 내용이 되게 흥미진진했음 리암 니슨이 덜뛰는 대...   10.0        1.0\n",
       "9329                       누구나 시작은 어설픈 법 그래서 더 매력적인 히어로   10.0        1.0\n",
       "9330                                병과 싸우기 위해서는 공부해야 한다    7.0        0.0"
      ]
     },
     "execution_count": 62,
     "metadata": {},
     "output_type": "execute_result"
    }
   ],
   "source": [
    "df.tail(3)"
   ]
  },
  {
   "cell_type": "code",
   "execution_count": 63,
   "metadata": {},
   "outputs": [
    {
     "name": "stdout",
     "output_type": "stream",
     "text": [
      "<class 'pandas.core.frame.DataFrame'>\n",
      "RangeIndex: 9331 entries, 0 to 9330\n",
      "Data columns (total 3 columns):\n",
      " #   Column     Non-Null Count  Dtype  \n",
      "---  ------     --------------  -----  \n",
      " 0   review     9331 non-null   object \n",
      " 1   score      9331 non-null   float64\n",
      " 2   sentiment  9331 non-null   float64\n",
      "dtypes: float64(2), object(1)\n",
      "memory usage: 218.8+ KB\n"
     ]
    }
   ],
   "source": [
    "df.info()"
   ]
  },
  {
   "cell_type": "code",
   "execution_count": 64,
   "metadata": {},
   "outputs": [
    {
     "data": {
      "text/plain": [
       "<AxesSubplot:xlabel='sentiment', ylabel='count'>"
      ]
     },
     "execution_count": 64,
     "metadata": {},
     "output_type": "execute_result"
    },
    {
     "data": {
      "image/png": "[encoded data removed]",
      "text/plain": [
       "<Figure size 432x288 with 1 Axes>"
      ]
     },
     "metadata": {
      "needs_background": "light"
     },
     "output_type": "display_data"
    }
   ],
   "source": [
    "sns.countplot(data=df,x='sentiment')"
   ]
  },
  {
   "cell_type": "code",
   "execution_count": 65,
   "metadata": {},
   "outputs": [],
   "source": [
    "okt = Okt()"
   ]
  },
  {
   "cell_type": "code",
   "execution_count": 66,
   "metadata": {},
   "outputs": [],
   "source": [
    "df.loc[:,'review']=df['review'].apply(lambda x : okt.morphs(x,stem=True))"
   ]
  },
  {
   "cell_type": "code",
   "execution_count": 67,
   "metadata": {},
   "outputs": [
    {
     "data": {
      "text/plain": [
       "12589"
      ]
     },
     "execution_count": 67,
     "metadata": {},
     "output_type": "execute_result"
    }
   ],
   "source": [
    "words = Counter(sum(df['review'].tolist(),[]))\n",
    "words.__len__()"
   ]
  },
  {
   "cell_type": "code",
   "execution_count": 68,
   "metadata": {},
   "outputs": [
    {
     "name": "stdout",
     "output_type": "stream",
     "text": [
      "['폰', '이집트', '목포', '넋', '올레']\n",
      "9709\n"
     ]
    }
   ],
   "source": [
    "stop_words = [w for w,i in words.items() if i<=5]\n",
    "\n",
    "print(stop_words[:5])\n",
    "print(stop_words.__len__())\n",
    "\n",
    "stop_words_set = set(stop_words)"
   ]
  },
  {
   "cell_type": "code",
   "execution_count": 69,
   "metadata": {},
   "outputs": [
    {
     "name": "stdout",
     "output_type": "stream",
     "text": [
      "[['판타지', '넘다', '영화', '역사', '남', '명작', '내', '걸', '극장', '못', '보다', '보다', '감동', '과는', '비교', '안되다'], ['여행', '느낌', '영화'], ['연설', '장면', '잃다', '보다', '되다'], ['그렇다', '뻔하다', '반전', '결말'], ['더', '배트맨', '조커', '처럼', '몰입', '감', '추천', '반대', '지루하다', '비', '추천']]\n"
     ]
    }
   ],
   "source": [
    "X = df['review'].apply(lambda x: list(filter(lambda y:y not in STOP_WORDS and y not in stop_words_set,x))).tolist()\n",
    "\n",
    "print(X[:5])"
   ]
  },
  {
   "cell_type": "code",
   "execution_count": 70,
   "metadata": {},
   "outputs": [],
   "source": [
    "x_len = X.__len__()\n",
    "\n",
    "train_len = x_len // 10 * 8"
   ]
  },
  {
   "cell_type": "code",
   "execution_count": 71,
   "metadata": {},
   "outputs": [],
   "source": [
    "number_vocab = set(sum(X,[])).__len__()\n",
    "tokenizer = Tokenizer(number_vocab)\n",
    "\n",
    "tokenizer.fit_on_texts(X[:train_len])\n",
    "\n",
    "X_train = tokenizer.texts_to_sequences(X[:train_len])\n",
    "X_test = tokenizer.texts_to_sequences(X[train_len:])\n",
    "\n",
    "y_train = np.array(df['sentiment'][:train_len])\n",
    "y_test = np.array(df['sentiment'][train_len:])"
   ]
  },
  {
   "cell_type": "code",
   "execution_count": 72,
   "metadata": {},
   "outputs": [
    {
     "name": "stdout",
     "output_type": "stream",
     "text": [
      "X_train :  7464\n",
      "y_train :  7464\n",
      "\n",
      "X_test :  1867\n",
      "y_test :  1867\n"
     ]
    }
   ],
   "source": [
    "print('X_train : ',X_train.__len__())\n",
    "print('y_train : ',y_train.__len__())\n",
    "print()\n",
    "print('X_test : ',X_test.__len__())\n",
    "print('y_test : ',y_test.__len__())"
   ]
  },
  {
   "cell_type": "code",
   "execution_count": 73,
   "metadata": {},
   "outputs": [
    {
     "name": "stdout",
     "output_type": "stream",
     "text": [
      "after delete some values X:  7443\n",
      "after delete some values y:  7443\n"
     ]
    },
    {
     "name": "stderr",
     "output_type": "stream",
     "text": [
      "C:\\Users\\kdh\\miniconda3\\envs\\nlp\\lib\\site-packages\\numpy\\core\\_asarray.py:83: VisibleDeprecationWarning: Creating an ndarray from ragged nested sequences (which is a list-or-tuple of lists-or-tuples-or ndarrays with different lengths or shapes) is deprecated. If you meant to do this, you must specify 'dtype=object' when creating the ndarray\n",
      "  return array(a, dtype, copy=False, order=order)\n"
     ]
    }
   ],
   "source": [
    "drop_train = [i for i,s in enumerate(X_train) if len(s) < 1]\n",
    "\n",
    "X_train = np.delete(X_train, drop_train, axis=0)\n",
    "y_train = np.delete(y_train, drop_train, axis=0)\n",
    "\n",
    "print('after delete some values X: ',X_train.__len__())\n",
    "print('after delete some values y: ',y_train.__len__())"
   ]
  },
  {
   "cell_type": "code",
   "execution_count": 74,
   "metadata": {},
   "outputs": [
    {
     "data": {
      "text/plain": [
       "<AxesSubplot:ylabel='Count'>"
      ]
     },
     "execution_count": 74,
     "metadata": {},
     "output_type": "execute_result"
    },
    {
     "data": {
      "image/png": "[encoded data removed]",
      "text/plain": [
       "<Figure size 1440x576 with 2 Axes>"
      ]
     },
     "metadata": {
      "needs_background": "light"
     },
     "output_type": "display_data"
    }
   ],
   "source": [
    "length_train = [len(s) for s in X_train]\n",
    "length_test = [len(s) for s in X_test]\n",
    "\n",
    "fig,ax = plt.subplots(nrows=1,ncols=2,figsize=(20,8))\n",
    "sns.histplot(x=length_train,ax=ax[0])\n",
    "sns.histplot(x=length_test,ax=ax[1])"
   ]
  },
  {
   "cell_type": "code",
   "execution_count": 75,
   "metadata": {},
   "outputs": [],
   "source": [
    "X_train_norm = pad_sequences(X_train,maxlen=40)\n",
    "X_test_norm = pad_sequences(X_test,maxlen=40)"
   ]
  },
  {
   "cell_type": "code",
   "execution_count": 76,
   "metadata": {},
   "outputs": [
    {
     "name": "stdout",
     "output_type": "stream",
     "text": [
      "Model: \"sequential_5\"\n",
      "_________________________________________________________________\n",
      "Layer (type)                 Output Shape              Param #   \n",
      "=================================================================\n",
      "embedding_4 (Embedding)      (None, None, 100)         272900    \n",
      "_________________________________________________________________\n",
      "lstm_4 (LSTM)                (None, 128)               117248    \n",
      "_________________________________________________________________\n",
      "dense_4 (Dense)              (None, 1)                 129       \n",
      "=================================================================\n",
      "Total params: 390,277\n",
      "Trainable params: 390,277\n",
      "Non-trainable params: 0\n",
      "_________________________________________________________________\n",
      "Epoch 1/15\n",
      "94/94 [==============================] - 2s 11ms/step - loss: 0.6055 - acc: 0.6651 - val_loss: 1.0514 - val_acc: 0.5050\n",
      "\n",
      "Epoch 00001: val_acc improved from -inf to 0.50504, saving model to ./model\\best_model.h5\n",
      "Epoch 2/15\n",
      "94/94 [==============================] - 1s 8ms/step - loss: 0.4366 - acc: 0.8037 - val_loss: 1.1001 - val_acc: 0.6575\n",
      "\n",
      "Epoch 00002: val_acc improved from 0.50504 to 0.65749, saving model to ./model\\best_model.h5\n",
      "Epoch 3/15\n",
      "94/94 [==============================] - 1s 9ms/step - loss: 0.3784 - acc: 0.8352 - val_loss: 0.4802 - val_acc: 0.7710\n",
      "\n",
      "Epoch 00003: val_acc improved from 0.65749 to 0.77099, saving model to ./model\\best_model.h5\n",
      "Epoch 4/15\n",
      "94/94 [==============================] - 1s 10ms/step - loss: 0.3392 - acc: 0.8574 - val_loss: 0.5125 - val_acc: 0.7562\n",
      "\n",
      "Epoch 00004: val_acc did not improve from 0.77099\n",
      "Epoch 5/15\n",
      "94/94 [==============================] - 1s 9ms/step - loss: 0.3190 - acc: 0.8646 - val_loss: 0.5411 - val_acc: 0.7710\n",
      "\n",
      "Epoch 00005: val_acc did not improve from 0.77099\n",
      "Epoch 6/15\n",
      "94/94 [==============================] - 1s 9ms/step - loss: 0.2989 - acc: 0.8792 - val_loss: 0.5082 - val_acc: 0.7602\n",
      "\n",
      "Epoch 00006: val_acc did not improve from 0.77099\n",
      "Epoch 7/15\n",
      "94/94 [==============================] - 1s 9ms/step - loss: 0.2789 - acc: 0.8890 - val_loss: 0.6858 - val_acc: 0.7562\n",
      "\n",
      "Epoch 00007: val_acc did not improve from 0.77099\n",
      "Epoch 00007: early stopping\n"
     ]
    }
   ],
   "source": [
    "embedding_dim = 100\n",
    "hidden_units = 128\n",
    "\n",
    "es = EarlyStopping(monitor='val_loss', mode='min', verbose=1, patience=4)\n",
    "mc = ModelCheckpoint('./model/best_model.h5', monitor='val_acc', mode='max', verbose=1, save_best_only=True)\n",
    "\n",
    "model = Sequential()\n",
    "model.add(Embedding(number_vocab, embedding_dim))\n",
    "model.add(LSTM(hidden_units))\n",
    "model.add(Dense(1, activation='sigmoid'))\n",
    "\n",
    "model.compile(optimizer='rmsprop', loss='binary_crossentropy', metrics=['acc'])\n",
    "model.summary()\n",
    "\n",
    "history = model.fit(X_train_norm, y_train, epochs=15, callbacks=[es, mc], batch_size=64, validation_split=0.2)"
   ]
  },
  {
   "cell_type": "code",
   "execution_count": 77,
   "metadata": {},
   "outputs": [
    {
     "name": "stdout",
     "output_type": "stream",
     "text": [
      "59/59 [==============================] - 0s 3ms/step - loss: 0.5154 - acc: 0.7600\n",
      "\n",
      " 테스트 정확도: 0.7600\n"
     ]
    }
   ],
   "source": [
    "loaded_model = load_model('./model/best_model.h5')\n",
    "print(\"\\n 테스트 정확도: %.4f\" % (loaded_model.evaluate(X_test_norm, y_test)[1]))"
   ]
  }
 ],
 "metadata": {
  "interpreter": {
   "hash": "b4fe7a65e16781ebce1fdb8c74096656eac6964dbb1774f4c65d543e2bcc2ead"
  },
  "kernelspec": {
   "display_name": "Python 3.6.13 ('nlp')",
   "language": "python",
   "name": "python3"
  },
  "language_info": {
   "codemirror_mode": {
    "name": "ipython",
    "version": 3
   },
   "file_extension": ".py",
   "mimetype": "text/x-python",
   "name": "python",
   "nbconvert_exporter": "python",
   "pygments_lexer": "ipython3",
   "version": "3.6.13"
  },
  "orig_nbformat": 4
 },
 "nbformat": 4,
 "nbformat_minor": 2
}
