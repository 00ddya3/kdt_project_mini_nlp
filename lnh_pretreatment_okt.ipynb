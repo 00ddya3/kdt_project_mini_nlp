{
 "cells": [
  {
   "cell_type": "code",
   "execution_count": 4,
   "metadata": {},
   "outputs": [],
   "source": [
    "import pandas as pd\n",
    "import numpy as np\n",
    "import matplotlib.pyplot as plt\n",
    "import re\n",
    "import urllib.request\n",
    "from konlpy.tag import Okt\n",
    "from tqdm import tqdm\n",
    "from tensorflow.keras.preprocessing.text import Tokenizer\n",
    "from tensorflow.keras.preprocessing.sequence import pad_sequences"
   ]
  },
  {
   "cell_type": "code",
   "execution_count": 6,
   "metadata": {},
   "outputs": [
    {
     "data": {
      "text/html": [
       "<div>\n",
       "<style scoped>\n",
       "    .dataframe tbody tr th:only-of-type {\n",
       "        vertical-align: middle;\n",
       "    }\n",
       "\n",
       "    .dataframe tbody tr th {\n",
       "        vertical-align: top;\n",
       "    }\n",
       "\n",
       "    .dataframe thead th {\n",
       "        text-align: right;\n",
       "    }\n",
       "</style>\n",
       "<table border=\"1\" class=\"dataframe\">\n",
       "  <thead>\n",
       "    <tr style=\"text-align: right;\">\n",
       "      <th></th>\n",
       "      <th>id</th>\n",
       "      <th>title</th>\n",
       "      <th>review</th>\n",
       "      <th>score</th>\n",
       "      <th>sentiment</th>\n",
       "    </tr>\n",
       "  </thead>\n",
       "  <tbody>\n",
       "    <tr>\n",
       "      <th>0</th>\n",
       "      <td>17998769</td>\n",
       "      <td>반지의 제왕: 왕의 귀환</td>\n",
       "      <td>판타지를 넘어 영화 역사에 남을 명작이다. 내가 이걸 왜 극장에서 못봤을까.... ...</td>\n",
       "      <td>10.0</td>\n",
       "      <td>NaN</td>\n",
       "    </tr>\n",
       "    <tr>\n",
       "      <th>1</th>\n",
       "      <td>17998767</td>\n",
       "      <td>나일 강의 죽음</td>\n",
       "      <td>이집트여행하는느낌의 영화</td>\n",
       "      <td>8.0</td>\n",
       "      <td>NaN</td>\n",
       "    </tr>\n",
       "    <tr>\n",
       "      <th>2</th>\n",
       "      <td>17998766</td>\n",
       "      <td>킹메이커</td>\n",
       "      <td>목포 연설 장면은 넋을 잃고 보게 된다.</td>\n",
       "      <td>10.0</td>\n",
       "      <td>NaN</td>\n",
       "    </tr>\n",
       "    <tr>\n",
       "      <th>3</th>\n",
       "      <td>17998765</td>\n",
       "      <td>기억의 밤</td>\n",
       "      <td>그저 그렇네요. 뻔한 반전과 결말.</td>\n",
       "      <td>4.0</td>\n",
       "      <td>NaN</td>\n",
       "    </tr>\n",
       "    <tr>\n",
       "      <th>4</th>\n",
       "      <td>17998764</td>\n",
       "      <td>더 배트맨</td>\n",
       "      <td>더 배트맨 조커처럼 몰입감이 있으면 추천 반대로 지루하면 비추천</td>\n",
       "      <td>1.0</td>\n",
       "      <td>NaN</td>\n",
       "    </tr>\n",
       "    <tr>\n",
       "      <th>...</th>\n",
       "      <td>...</td>\n",
       "      <td>...</td>\n",
       "      <td>...</td>\n",
       "      <td>...</td>\n",
       "      <td>...</td>\n",
       "    </tr>\n",
       "    <tr>\n",
       "      <th>9352</th>\n",
       "      <td>17988421</td>\n",
       "      <td>오! 수정</td>\n",
       "      <td>이해할 수 없는 남자와 이해해주는 여자</td>\n",
       "      <td>7.0</td>\n",
       "      <td>NaN</td>\n",
       "    </tr>\n",
       "    <tr>\n",
       "      <th>9353</th>\n",
       "      <td>17988420</td>\n",
       "      <td>이상한 나라의 수학자</td>\n",
       "      <td>배우들 연기력이 장난아님. 역시 최민식 배우는 클라스가 다름!</td>\n",
       "      <td>10.0</td>\n",
       "      <td>NaN</td>\n",
       "    </tr>\n",
       "    <tr>\n",
       "      <th>9354</th>\n",
       "      <td>17988419</td>\n",
       "      <td>블랙라이트</td>\n",
       "      <td>그래도 최근에 나왔던 영화들에 비해 내용이 되게 흥미진진했음 리암 니슨이 덜뛰는 대...</td>\n",
       "      <td>10.0</td>\n",
       "      <td>NaN</td>\n",
       "    </tr>\n",
       "    <tr>\n",
       "      <th>9355</th>\n",
       "      <td>17988418</td>\n",
       "      <td>더 배트맨</td>\n",
       "      <td>누구나 시작은 어설픈 법. 그래서 더 매력적인 히어로</td>\n",
       "      <td>10.0</td>\n",
       "      <td>NaN</td>\n",
       "    </tr>\n",
       "    <tr>\n",
       "      <th>9356</th>\n",
       "      <td>17988417</td>\n",
       "      <td>달라스 바이어스 클럽</td>\n",
       "      <td>병과 싸우기 위해서는 공부해야 한다</td>\n",
       "      <td>7.0</td>\n",
       "      <td>NaN</td>\n",
       "    </tr>\n",
       "  </tbody>\n",
       "</table>\n",
       "<p>9357 rows × 5 columns</p>\n",
       "</div>"
      ],
      "text/plain": [
       "            id          title  \\\n",
       "0     17998769  반지의 제왕: 왕의 귀환   \n",
       "1     17998767       나일 강의 죽음   \n",
       "2     17998766           킹메이커   \n",
       "3     17998765          기억의 밤   \n",
       "4     17998764          더 배트맨   \n",
       "...        ...            ...   \n",
       "9352  17988421          오! 수정   \n",
       "9353  17988420    이상한 나라의 수학자   \n",
       "9354  17988419          블랙라이트   \n",
       "9355  17988418          더 배트맨   \n",
       "9356  17988417    달라스 바이어스 클럽   \n",
       "\n",
       "                                                 review  score  sentiment  \n",
       "0     판타지를 넘어 영화 역사에 남을 명작이다. 내가 이걸 왜 극장에서 못봤을까.... ...   10.0        NaN  \n",
       "1                                         이집트여행하는느낌의 영화    8.0        NaN  \n",
       "2                                목포 연설 장면은 넋을 잃고 보게 된다.   10.0        NaN  \n",
       "3                                   그저 그렇네요. 뻔한 반전과 결말.    4.0        NaN  \n",
       "4                   더 배트맨 조커처럼 몰입감이 있으면 추천 반대로 지루하면 비추천    1.0        NaN  \n",
       "...                                                 ...    ...        ...  \n",
       "9352                              이해할 수 없는 남자와 이해해주는 여자    7.0        NaN  \n",
       "9353                 배우들 연기력이 장난아님. 역시 최민식 배우는 클라스가 다름!   10.0        NaN  \n",
       "9354  그래도 최근에 나왔던 영화들에 비해 내용이 되게 흥미진진했음 리암 니슨이 덜뛰는 대...   10.0        NaN  \n",
       "9355                      누구나 시작은 어설픈 법. 그래서 더 매력적인 히어로   10.0        NaN  \n",
       "9356                                병과 싸우기 위해서는 공부해야 한다    7.0        NaN  \n",
       "\n",
       "[9357 rows x 5 columns]"
      ]
     },
     "execution_count": 6,
     "metadata": {},
     "output_type": "execute_result"
    }
   ],
   "source": [
    "df = pd.read_csv('./data/processed/df.csv')\n",
    "df"
   ]
  },
  {
   "cell_type": "code",
   "execution_count": 9,
   "metadata": {},
   "outputs": [],
   "source": [
    "stopwords = ['의','가','이','은','들','는','좀','잘','걍','과','도','를','으로','자','에','와','한','하다']"
   ]
  },
  {
   "cell_type": "code",
   "execution_count": 10,
   "metadata": {},
   "outputs": [
    {
     "data": {
      "text/plain": [
       "['오다', '이렇다', '것', '도', '영화', '라고', '차라리', '뮤직비디오', '를', '만들다', '게', '나다', '뻔']"
      ]
     },
     "execution_count": 10,
     "metadata": {},
     "output_type": "execute_result"
    }
   ],
   "source": [
    "okt = Okt()\n",
    "okt.morphs('와 이런 것도 영화라고 차라리 뮤직비디오를 만드는 게 나을 뻔', stem = True)"
   ]
  },
  {
   "cell_type": "code",
   "execution_count": null,
   "metadata": {},
   "outputs": [],
   "source": [
    "X_train = []\n",
    "for sentence in tqdm(df['review']):\n",
    "    tokenized_sentence = okt.morphs(sentence, stem=True) # 토큰화\n",
    "    stopwords_removed_sentence = [word for word in tokenized_sentence if not word in stopwords] # 불용어 제거\n",
    "    X_train.append(stopwords_removed_sentence)"
   ]
  }
 ],
 "metadata": {
  "interpreter": {
   "hash": "b4fe7a65e16781ebce1fdb8c74096656eac6964dbb1774f4c65d543e2bcc2ead"
  },
  "kernelspec": {
   "display_name": "Python 3.6.13 ('nlp')",
   "language": "python",
   "name": "python3"
  },
  "language_info": {
   "codemirror_mode": {
    "name": "ipython",
    "version": 3
   },
   "file_extension": ".py",
   "mimetype": "text/x-python",
   "name": "python",
   "nbconvert_exporter": "python",
   "pygments_lexer": "ipython3",
   "version": "3.6.13"
  },
  "orig_nbformat": 4
 },
 "nbformat": 4,
 "nbformat_minor": 2
}
