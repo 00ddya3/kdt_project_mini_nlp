{
 "cells": [
  {
   "cell_type": "code",
   "execution_count": 131,
   "metadata": {},
   "outputs": [],
   "source": [
    "import pandas as pd\n",
    "import seaborn as sns\n",
    "import matplotlib.pyplot as plt\n",
    "\n",
    "from lib import text_only_korean"
   ]
  },
  {
   "cell_type": "markdown",
   "metadata": {},
   "source": [
    "수집 데이터 전처"
   ]
  },
  {
   "cell_type": "code",
   "execution_count": 132,
   "metadata": {},
   "outputs": [
    {
     "data": {
      "text/html": [
       "<div>\n",
       "<style scoped>\n",
       "    .dataframe tbody tr th:only-of-type {\n",
       "        vertical-align: middle;\n",
       "    }\n",
       "\n",
       "    .dataframe tbody tr th {\n",
       "        vertical-align: top;\n",
       "    }\n",
       "\n",
       "    .dataframe thead th {\n",
       "        text-align: right;\n",
       "    }\n",
       "</style>\n",
       "<table border=\"1\" class=\"dataframe\">\n",
       "  <thead>\n",
       "    <tr style=\"text-align: right;\">\n",
       "      <th></th>\n",
       "      <th>id</th>\n",
       "      <th>title</th>\n",
       "      <th>review</th>\n",
       "      <th>score</th>\n",
       "      <th>sentiment</th>\n",
       "    </tr>\n",
       "  </thead>\n",
       "  <tbody>\n",
       "    <tr>\n",
       "      <th>0</th>\n",
       "      <td>17998769</td>\n",
       "      <td>반지의 제왕: 왕의 귀환</td>\n",
       "      <td>판타지를 넘어 영화 역사에 남을 명작이다. 내가 이걸 왜 극장에서 못봤을까.... ...</td>\n",
       "      <td>10.0</td>\n",
       "      <td>NaN</td>\n",
       "    </tr>\n",
       "    <tr>\n",
       "      <th>1</th>\n",
       "      <td>17998767</td>\n",
       "      <td>나일 강의 죽음</td>\n",
       "      <td>이집트여행하는느낌의 영화</td>\n",
       "      <td>8.0</td>\n",
       "      <td>NaN</td>\n",
       "    </tr>\n",
       "    <tr>\n",
       "      <th>2</th>\n",
       "      <td>17998766</td>\n",
       "      <td>킹메이커</td>\n",
       "      <td>목포 연설 장면은 넋을 잃고 보게 된다.</td>\n",
       "      <td>10.0</td>\n",
       "      <td>NaN</td>\n",
       "    </tr>\n",
       "    <tr>\n",
       "      <th>3</th>\n",
       "      <td>17998765</td>\n",
       "      <td>기억의 밤</td>\n",
       "      <td>그저 그렇네요. 뻔한 반전과 결말.</td>\n",
       "      <td>4.0</td>\n",
       "      <td>NaN</td>\n",
       "    </tr>\n",
       "    <tr>\n",
       "      <th>4</th>\n",
       "      <td>17998764</td>\n",
       "      <td>더 배트맨</td>\n",
       "      <td>더 배트맨 조커처럼 몰입감이 있으면 추천 반대로 지루하면 비추천</td>\n",
       "      <td>1.0</td>\n",
       "      <td>NaN</td>\n",
       "    </tr>\n",
       "    <tr>\n",
       "      <th>...</th>\n",
       "      <td>...</td>\n",
       "      <td>...</td>\n",
       "      <td>...</td>\n",
       "      <td>...</td>\n",
       "      <td>...</td>\n",
       "    </tr>\n",
       "    <tr>\n",
       "      <th>9995</th>\n",
       "      <td>17988421</td>\n",
       "      <td>오! 수정</td>\n",
       "      <td>이해할 수 없는 남자와 이해해주는 여자</td>\n",
       "      <td>7.0</td>\n",
       "      <td>NaN</td>\n",
       "    </tr>\n",
       "    <tr>\n",
       "      <th>9996</th>\n",
       "      <td>17988420</td>\n",
       "      <td>이상한 나라의 수학자</td>\n",
       "      <td>배우들 연기력이 장난아님. 역시 최민식 배우는 클라스가 다름!</td>\n",
       "      <td>10.0</td>\n",
       "      <td>NaN</td>\n",
       "    </tr>\n",
       "    <tr>\n",
       "      <th>9997</th>\n",
       "      <td>17988419</td>\n",
       "      <td>블랙라이트</td>\n",
       "      <td>그래도 최근에 나왔던 영화들에 비해 내용이 되게 흥미진진했음 리암 니슨이 덜뛰는 대...</td>\n",
       "      <td>10.0</td>\n",
       "      <td>NaN</td>\n",
       "    </tr>\n",
       "    <tr>\n",
       "      <th>9998</th>\n",
       "      <td>17988418</td>\n",
       "      <td>더 배트맨</td>\n",
       "      <td>누구나 시작은 어설픈 법. 그래서 더 매력적인 히어로</td>\n",
       "      <td>10.0</td>\n",
       "      <td>NaN</td>\n",
       "    </tr>\n",
       "    <tr>\n",
       "      <th>9999</th>\n",
       "      <td>17988417</td>\n",
       "      <td>달라스 바이어스 클럽</td>\n",
       "      <td>병과 싸우기 위해서는 공부해야 한다</td>\n",
       "      <td>7.0</td>\n",
       "      <td>NaN</td>\n",
       "    </tr>\n",
       "  </tbody>\n",
       "</table>\n",
       "<p>10000 rows × 5 columns</p>\n",
       "</div>"
      ],
      "text/plain": [
       "            id          title  \\\n",
       "0     17998769  반지의 제왕: 왕의 귀환   \n",
       "1     17998767       나일 강의 죽음   \n",
       "2     17998766           킹메이커   \n",
       "3     17998765          기억의 밤   \n",
       "4     17998764          더 배트맨   \n",
       "...        ...            ...   \n",
       "9995  17988421          오! 수정   \n",
       "9996  17988420    이상한 나라의 수학자   \n",
       "9997  17988419          블랙라이트   \n",
       "9998  17988418          더 배트맨   \n",
       "9999  17988417    달라스 바이어스 클럽   \n",
       "\n",
       "                                                 review  score  sentiment  \n",
       "0     판타지를 넘어 영화 역사에 남을 명작이다. 내가 이걸 왜 극장에서 못봤을까.... ...   10.0        NaN  \n",
       "1                                         이집트여행하는느낌의 영화    8.0        NaN  \n",
       "2                                목포 연설 장면은 넋을 잃고 보게 된다.   10.0        NaN  \n",
       "3                                   그저 그렇네요. 뻔한 반전과 결말.    4.0        NaN  \n",
       "4                   더 배트맨 조커처럼 몰입감이 있으면 추천 반대로 지루하면 비추천    1.0        NaN  \n",
       "...                                                 ...    ...        ...  \n",
       "9995                              이해할 수 없는 남자와 이해해주는 여자    7.0        NaN  \n",
       "9996                 배우들 연기력이 장난아님. 역시 최민식 배우는 클라스가 다름!   10.0        NaN  \n",
       "9997  그래도 최근에 나왔던 영화들에 비해 내용이 되게 흥미진진했음 리암 니슨이 덜뛰는 대...   10.0        NaN  \n",
       "9998                      누구나 시작은 어설픈 법. 그래서 더 매력적인 히어로   10.0        NaN  \n",
       "9999                                병과 싸우기 위해서는 공부해야 한다    7.0        NaN  \n",
       "\n",
       "[10000 rows x 5 columns]"
      ]
     },
     "execution_count": 132,
     "metadata": {},
     "output_type": "execute_result"
    }
   ],
   "source": [
    "df = pd.read_csv('./data/reviews_1647645839.csv')\n",
    "df"
   ]
  },
  {
   "cell_type": "code",
   "execution_count": 133,
   "metadata": {},
   "outputs": [
    {
     "name": "stdout",
     "output_type": "stream",
     "text": [
      "<class 'pandas.core.frame.DataFrame'>\n",
      "RangeIndex: 10000 entries, 0 to 9999\n",
      "Data columns (total 5 columns):\n",
      " #   Column     Non-Null Count  Dtype  \n",
      "---  ------     --------------  -----  \n",
      " 0   id         10000 non-null  int64  \n",
      " 1   title      10000 non-null  object \n",
      " 2   review     9359 non-null   object \n",
      " 3   score      10000 non-null  float64\n",
      " 4   sentiment  0 non-null      float64\n",
      "dtypes: float64(2), int64(1), object(2)\n",
      "memory usage: 390.8+ KB\n"
     ]
    }
   ],
   "source": [
    "df.info()"
   ]
  },
  {
   "cell_type": "code",
   "execution_count": 134,
   "metadata": {},
   "outputs": [
    {
     "data": {
      "text/plain": [
       "id               0\n",
       "title            0\n",
       "review         641\n",
       "score            0\n",
       "sentiment    10000\n",
       "dtype: int64"
      ]
     },
     "execution_count": 134,
     "metadata": {},
     "output_type": "execute_result"
    }
   ],
   "source": [
    "df.isna().sum()"
   ]
  },
  {
   "cell_type": "code",
   "execution_count": 135,
   "metadata": {},
   "outputs": [
    {
     "name": "stdout",
     "output_type": "stream",
     "text": [
      "before drop duplicated :  10000\n",
      "after drop duplicated :  9998\n"
     ]
    }
   ],
   "source": [
    "# drop duplicated rows\n",
    "print('before drop duplicated : ',df.shape[0])\n",
    "df.drop_duplicates(subset=['id'],ignore_index=True,inplace=True)\n",
    "print('after drop duplicated : ',df.shape[0])"
   ]
  },
  {
   "cell_type": "code",
   "execution_count": 136,
   "metadata": {},
   "outputs": [
    {
     "name": "stdout",
     "output_type": "stream",
     "text": [
      "before drop duplicated :  9998\n",
      "after drop duplicated :  9357\n"
     ]
    }
   ],
   "source": [
    "# don't need any review that has no review\n",
    "print('before drop duplicated : ',df.shape[0])\n",
    "df.dropna(subset=['review'],axis=0,inplace=True)\n",
    "print('after drop duplicated : ',df.shape[0])"
   ]
  },
  {
   "cell_type": "code",
   "execution_count": 137,
   "metadata": {},
   "outputs": [
    {
     "data": {
      "text/plain": [
       "id              0\n",
       "title           0\n",
       "review          0\n",
       "score           0\n",
       "sentiment    9357\n",
       "dtype: int64"
      ]
     },
     "execution_count": 137,
     "metadata": {},
     "output_type": "execute_result"
    }
   ],
   "source": [
    "df.isna().sum()"
   ]
  },
  {
   "cell_type": "code",
   "execution_count": 138,
   "metadata": {},
   "outputs": [
    {
     "data": {
      "text/plain": [
       "(9357, 5)"
      ]
     },
     "execution_count": 138,
     "metadata": {},
     "output_type": "execute_result"
    }
   ],
   "source": [
    "df.shape"
   ]
  },
  {
   "cell_type": "code",
   "execution_count": 139,
   "metadata": {},
   "outputs": [
    {
     "data": {
      "text/plain": [
       "<AxesSubplot:xlabel='score', ylabel='count'>"
      ]
     },
     "execution_count": 139,
     "metadata": {},
     "output_type": "execute_result"
    },
    {
     "data": {
      "image/png": "[encoded data removed]",
      "text/plain": [
       "<Figure size 432x288 with 1 Axes>"
      ]
     },
     "metadata": {
      "needs_background": "light"
     },
     "output_type": "display_data"
    }
   ],
   "source": [
    "sns.countplot(data=df,x='score')"
   ]
  },
  {
   "cell_type": "markdown",
   "metadata": {},
   "source": [
    "훈련용 학습셋이 별도로 필요할 것으로 보임\n",
    "\n",
    "[출처](https://github.com/e9t/nsmc/)로부터 추가 데이터셋을 구비함\n",
    "\n",
    "직접 구비한 데이터셋은 차후 사용"
   ]
  },
  {
   "cell_type": "code",
   "execution_count": 140,
   "metadata": {},
   "outputs": [],
   "source": [
    "train = pd.read_table('./data/ratings_train.txt')\n",
    "test = pd.read_table('./data/ratings_test.txt')"
   ]
  },
  {
   "cell_type": "code",
   "execution_count": 141,
   "metadata": {},
   "outputs": [
    {
     "data": {
      "text/html": [
       "<div>\n",
       "<style scoped>\n",
       "    .dataframe tbody tr th:only-of-type {\n",
       "        vertical-align: middle;\n",
       "    }\n",
       "\n",
       "    .dataframe tbody tr th {\n",
       "        vertical-align: top;\n",
       "    }\n",
       "\n",
       "    .dataframe thead th {\n",
       "        text-align: right;\n",
       "    }\n",
       "</style>\n",
       "<table border=\"1\" class=\"dataframe\">\n",
       "  <thead>\n",
       "    <tr style=\"text-align: right;\">\n",
       "      <th></th>\n",
       "      <th>id</th>\n",
       "      <th>document</th>\n",
       "      <th>label</th>\n",
       "    </tr>\n",
       "  </thead>\n",
       "  <tbody>\n",
       "    <tr>\n",
       "      <th>0</th>\n",
       "      <td>9976970</td>\n",
       "      <td>아 더빙.. 진짜 짜증나네요 목소리</td>\n",
       "      <td>0</td>\n",
       "    </tr>\n",
       "    <tr>\n",
       "      <th>1</th>\n",
       "      <td>3819312</td>\n",
       "      <td>흠...포스터보고 초딩영화줄....오버연기조차 가볍지 않구나</td>\n",
       "      <td>1</td>\n",
       "    </tr>\n",
       "    <tr>\n",
       "      <th>2</th>\n",
       "      <td>10265843</td>\n",
       "      <td>너무재밓었다그래서보는것을추천한다</td>\n",
       "      <td>0</td>\n",
       "    </tr>\n",
       "  </tbody>\n",
       "</table>\n",
       "</div>"
      ],
      "text/plain": [
       "         id                           document  label\n",
       "0   9976970                아 더빙.. 진짜 짜증나네요 목소리      0\n",
       "1   3819312  흠...포스터보고 초딩영화줄....오버연기조차 가볍지 않구나      1\n",
       "2  10265843                  너무재밓었다그래서보는것을추천한다      0"
      ]
     },
     "execution_count": 141,
     "metadata": {},
     "output_type": "execute_result"
    }
   ],
   "source": [
    "train.head(3)"
   ]
  },
  {
   "cell_type": "code",
   "execution_count": 142,
   "metadata": {},
   "outputs": [
    {
     "data": {
      "text/html": [
       "<div>\n",
       "<style scoped>\n",
       "    .dataframe tbody tr th:only-of-type {\n",
       "        vertical-align: middle;\n",
       "    }\n",
       "\n",
       "    .dataframe tbody tr th {\n",
       "        vertical-align: top;\n",
       "    }\n",
       "\n",
       "    .dataframe thead th {\n",
       "        text-align: right;\n",
       "    }\n",
       "</style>\n",
       "<table border=\"1\" class=\"dataframe\">\n",
       "  <thead>\n",
       "    <tr style=\"text-align: right;\">\n",
       "      <th></th>\n",
       "      <th>id</th>\n",
       "      <th>document</th>\n",
       "      <th>label</th>\n",
       "    </tr>\n",
       "  </thead>\n",
       "  <tbody>\n",
       "    <tr>\n",
       "      <th>0</th>\n",
       "      <td>6270596</td>\n",
       "      <td>굳 ㅋ</td>\n",
       "      <td>1</td>\n",
       "    </tr>\n",
       "    <tr>\n",
       "      <th>1</th>\n",
       "      <td>9274899</td>\n",
       "      <td>GDNTOPCLASSINTHECLUB</td>\n",
       "      <td>0</td>\n",
       "    </tr>\n",
       "    <tr>\n",
       "      <th>2</th>\n",
       "      <td>8544678</td>\n",
       "      <td>뭐야 이 평점들은.... 나쁘진 않지만 10점 짜리는 더더욱 아니잖아</td>\n",
       "      <td>0</td>\n",
       "    </tr>\n",
       "  </tbody>\n",
       "</table>\n",
       "</div>"
      ],
      "text/plain": [
       "        id                                document  label\n",
       "0  6270596                                     굳 ㅋ      1\n",
       "1  9274899                    GDNTOPCLASSINTHECLUB      0\n",
       "2  8544678  뭐야 이 평점들은.... 나쁘진 않지만 10점 짜리는 더더욱 아니잖아      0"
      ]
     },
     "execution_count": 142,
     "metadata": {},
     "output_type": "execute_result"
    }
   ],
   "source": [
    "test.head(3)"
   ]
  },
  {
   "cell_type": "code",
   "execution_count": 143,
   "metadata": {},
   "outputs": [
    {
     "name": "stdout",
     "output_type": "stream",
     "text": [
      "train >>\n",
      "  id          0\n",
      "document    5\n",
      "label       0\n",
      "dtype: int64\n",
      "\n",
      "test >>\n",
      "  id          0\n",
      "document    3\n",
      "label       0\n",
      "dtype: int64\n"
     ]
    }
   ],
   "source": [
    "print('train >>\\n ',train.isna().sum(),end='\\n\\n')\n",
    "print('test >>\\n ',test.isna().sum())"
   ]
  },
  {
   "cell_type": "code",
   "execution_count": 144,
   "metadata": {},
   "outputs": [
    {
     "name": "stdout",
     "output_type": "stream",
     "text": [
      "after drop - train >>\n",
      "  id          0\n",
      "document    0\n",
      "label       0\n",
      "dtype: int64\n",
      "\n",
      "after drop - test >>\n",
      "  id          0\n",
      "document    0\n",
      "label       0\n",
      "dtype: int64\n"
     ]
    }
   ],
   "source": [
    "# preprocessing same as what i did\n",
    "train.drop_duplicates(subset=['id','document'],inplace=True,ignore_index=False)\n",
    "test.drop_duplicates(subset=['id','document'],inplace=True,ignore_index=False)\n",
    "train.dropna(subset=['document'],inplace=True)\n",
    "test.dropna(subset=['document'],inplace=True)\n",
    "\n",
    "print('after drop - train >>\\n ',train.isna().sum(),end='\\n\\n')\n",
    "print('after drop - test >>\\n ',test.isna().sum())"
   ]
  },
  {
   "cell_type": "code",
   "execution_count": 145,
   "metadata": {},
   "outputs": [
    {
     "data": {
      "text/plain": [
       "Text(1, 12585, '25171')"
      ]
     },
     "execution_count": 145,
     "metadata": {},
     "output_type": "execute_result"
    },
    {
     "data": {
      "image/png": "[encoded data removed]",
      "text/plain": [
       "<Figure size 1440x576 with 2 Axes>"
      ]
     },
     "metadata": {
      "needs_background": "light"
     },
     "output_type": "display_data"
    }
   ],
   "source": [
    "test_label_count = test['label'].value_counts()\n",
    "train_label_count = train['label'].value_counts()\n",
    "\n",
    "fig,axes = plt.subplots(1,2,figsize=(20,8))\n",
    "\n",
    "sns.countplot(data=train,x='label',ax=axes[0])\n",
    "sns.countplot(data=test,x='label',ax=axes[1])\n",
    "\n",
    "axes[0].text(0,train_label_count[0]//2,train_label_count[0])\n",
    "axes[0].text(1,train_label_count[1]//2,train_label_count[1])\n",
    "\n",
    "axes[1].text(0,test_label_count[0]//2,test_label_count[0])\n",
    "axes[1].text(1,test_label_count[1]//2,test_label_count[1])"
   ]
  },
  {
   "cell_type": "code",
   "execution_count": 146,
   "metadata": {},
   "outputs": [
    {
     "data": {
      "text/plain": [
       "584                          1\n",
       "593                          4\n",
       "638       4.444.444.444.444.44\n",
       "668                    General\n",
       "1058                         4\n",
       "                  ...         \n",
       "149358                     wtf\n",
       "149364                  !!!!!!\n",
       "149718                       .\n",
       "149862                       .\n",
       "149966                       1\n",
       "Name: document, Length: 792, dtype: object"
      ]
     },
     "execution_count": 146,
     "metadata": {},
     "output_type": "execute_result"
    }
   ],
   "source": [
    "train[train['document'].str.findall('[ㄱ-ㅎㅏ-ㅣ-가-힣 ]').str.len() == 0]['document']"
   ]
  },
  {
   "cell_type": "code",
   "execution_count": 147,
   "metadata": {},
   "outputs": [
    {
     "name": "stdout",
     "output_type": "stream",
     "text": [
      "\n",
      "\n",
      "전처리 전 차원 :  (149995, 3)\n",
      "전처리 후 차원 :  (148740, 3)\n",
      "\n",
      "\n",
      "\n",
      "전처리 전 차원 :  (49997, 3)\n",
      "전처리 후 차원 :  (49575, 3)\n",
      "\n",
      "\n",
      "\n",
      "전처리 전 차원 :  (9357, 5)\n",
      "전처리 후 차원 :  (9331, 5)\n",
      "\n"
     ]
    }
   ],
   "source": [
    "train = text_only_korean(train,'document')\n",
    "test = text_only_korean(test,'document')\n",
    "df = text_only_korean(df,'review')"
   ]
  },
  {
   "cell_type": "code",
   "execution_count": 148,
   "metadata": {},
   "outputs": [],
   "source": [
    "train.to_csv('./data/processed/train.csv',index=False)\n",
    "test.to_csv('./data/processed/test.csv',index=False)\n",
    "df.to_csv('./data/processed/df.csv',index=False)"
   ]
  }
 ],
 "metadata": {
  "interpreter": {
   "hash": "b4fe7a65e16781ebce1fdb8c74096656eac6964dbb1774f4c65d543e2bcc2ead"
  },
  "kernelspec": {
   "display_name": "Python 3.6.13 ('nlp')",
   "language": "python",
   "name": "python3"
  },
  "language_info": {
   "codemirror_mode": {
    "name": "ipython",
    "version": 3
   },
   "file_extension": ".py",
   "mimetype": "text/x-python",
   "name": "python",
   "nbconvert_exporter": "python",
   "pygments_lexer": "ipython3",
   "version": "3.6.13"
  },
  "orig_nbformat": 4
 },
 "nbformat": 4,
 "nbformat_minor": 2
}
