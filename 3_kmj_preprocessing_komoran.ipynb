{
  "cells": [
    {
      "cell_type": "markdown",
      "metadata": {},
      "source": [
        "<center><h2><b>Imports</b></h2></center>"
      ]
    },
    {
      "cell_type": "code",
      "execution_count": 5,
      "metadata": {
        "id": "oQpnF4Gcbesh"
      },
      "outputs": [],
      "source": [
        "import pandas as pd\n",
        "import numpy as np\n",
        "import matplotlib.pyplot as plt\n",
        "from tqdm import tqdm\n",
        "from tensorflow.keras.preprocessing.text import Tokenizer\n",
        "from tensorflow.keras.preprocessing.sequence import pad_sequences"
      ]
    },
    {
      "cell_type": "markdown",
      "metadata": {
        "id": "I9totdsduPyz"
      },
      "source": [
        "# KOMORAN"
      ]
    },
    {
      "cell_type": "code",
      "execution_count": 6,
      "metadata": {
        "id": "WJnJUd5-uTMU"
      },
      "outputs": [],
      "source": [
        "from konlpy.tag import Komoran\n",
        "komoran = Komoran()"
      ]
    },
    {
      "cell_type": "code",
      "execution_count": 7,
      "metadata": {
        "id": "Lo8NN_0ucMHg"
      },
      "outputs": [],
      "source": [
        "#영화리뷰 데이터 읽어오기\n",
        "df = pd.read_csv(\"./data/processed/base_df.csv\", encoding='utf-8')\n",
        "\n",
        "#불용어 읽어오기\n",
        "stopwords = pd.read_csv(\"./data/stopwords.txt\")\n",
        "stopwords = stopwords['word'].tolist()"
      ]
    },
    {
      "cell_type": "code",
      "execution_count": 4,
      "metadata": {
        "colab": {
          "base_uri": "https://localhost:8080/"
        },
        "id": "ycEdIiYbdkEZ",
        "outputId": "824ba907-be1c-4261-fdd3-ea596bfadf12"
      },
      "outputs": [
        {
          "name": "stderr",
          "output_type": "stream",
          "text": [
            "100%|██████████| 9304/9304 [00:07<00:00, 1293.30it/s]\n"
          ]
        }
      ],
      "source": [
        "#불용어제거 + 토큰화\n",
        "tk = []\n",
        "for sentence in tqdm(df['review']) :\n",
        "    tokenized_sentence = komoran.morphs(sentence) # 토큰화\n",
        "    stopwords_removed_sentence = [word for word in tokenized_sentence if not word in stopwords] # 불용어 제거\n",
        "    tk.append(stopwords_removed_sentence)"
      ]
    },
    {
      "cell_type": "code",
      "execution_count": 8,
      "metadata": {
        "colab": {
          "base_uri": "https://localhost:8080/"
        },
        "id": "-IzBJ_sqdosP",
        "outputId": "fa245bad-d554-4c36-ad6e-aad500324b1c"
      },
      "outputs": [
        {
          "data": {
            "text/plain": [
              "[['판타지',\n",
              "  '넘',\n",
              "  '영화',\n",
              "  '역사',\n",
              "  '남',\n",
              "  '명작',\n",
              "  '다',\n",
              "  '내',\n",
              "  '이거',\n",
              "  'ㄹ',\n",
              "  '극장',\n",
              "  '못',\n",
              "  '보',\n",
              "  '았',\n",
              "  '을까',\n",
              "  '폰',\n",
              "  '보',\n",
              "  '았',\n",
              "  '감동',\n",
              "  '비교',\n",
              "  '안',\n",
              "  '되',\n",
              "  'ㄹ텐데'],\n",
              " ['이집트', '여행', '느낌', '영화'],\n",
              " ['목포', '연설', '장면', '넋', '잃', '고', '보', '게', '되', 'ㄴ다']]"
            ]
          },
          "execution_count": 8,
          "metadata": {},
          "output_type": "execute_result"
        }
      ],
      "source": [
        "tk[:3]"
      ]
    },
    {
      "cell_type": "code",
      "execution_count": 9,
      "metadata": {
        "id": "aqauOBrmdved"
      },
      "outputs": [],
      "source": [
        "# 정수 인코딩\n",
        "tokenizer = Tokenizer()\n",
        "tokenizer.fit_on_texts(tk)"
      ]
    },
    {
      "cell_type": "code",
      "execution_count": 10,
      "metadata": {
        "colab": {
          "base_uri": "https://localhost:8080/"
        },
        "id": "-sHyHZMad_B1",
        "outputId": "83238dd5-6ad6-417a-9f35-ce92978a5bf7"
      },
      "outputs": [
        {
          "name": "stdout",
          "output_type": "stream",
          "text": [
            "단어 집합(vocabulary)의 크기 : 12349\n",
            "등장 빈도가 2번 이하인 희귀 단어의 수: 7904\n",
            "단어 집합에서 희귀 단어의 비율: 64.00518260587901\n",
            "전체 등장 빈도에서 희귀 단어 등장 빈도 비율: 5.481672771950581\n"
          ]
        }
      ],
      "source": [
        "threshold = 3\n",
        "total_cnt = len(tokenizer.word_index) # 단어의 수\n",
        "rare_cnt = 0 # 등장 빈도수가 threshold보다 작은 단어의 개수를 카운트\n",
        "total_freq = 0 # 훈련 데이터의 전체 단어 빈도수 총 합\n",
        "rare_freq = 0 # 등장 빈도수가 threshold보다 작은 단어의 등장 빈도수의 총 합\n",
        "\n",
        "# 단어와 빈도수의 쌍(pair)을 key와 value로 받는다.\n",
        "for key, value in tokenizer.word_counts.items():\n",
        "    total_freq = total_freq + value\n",
        "\n",
        "    # 단어의 등장 빈도수가 threshold보다 작으면\n",
        "    if(value < threshold):\n",
        "        rare_cnt = rare_cnt + 1\n",
        "        rare_freq = rare_freq + value\n",
        "\n",
        "print('단어 집합(vocabulary)의 크기 :',total_cnt)\n",
        "print('등장 빈도가 %s번 이하인 희귀 단어의 수: %s'%(threshold - 1, rare_cnt))\n",
        "print(\"단어 집합에서 희귀 단어의 비율:\", (rare_cnt / total_cnt)*100)\n",
        "print(\"전체 등장 빈도에서 희귀 단어 등장 빈도 비율:\", (rare_freq / total_freq)*100)"
      ]
    },
    {
      "cell_type": "code",
      "execution_count": 11,
      "metadata": {
        "colab": {
          "base_uri": "https://localhost:8080/"
        },
        "id": "6Zv4D8oXeA_7",
        "outputId": "57712d60-74a3-49bc-f1bd-6d9de8eed613"
      },
      "outputs": [
        {
          "name": "stdout",
          "output_type": "stream",
          "text": [
            "단어 집합의 크기 : 4446\n"
          ]
        }
      ],
      "source": [
        "# 전체 단어 개수 중 빈도수 2이하인 단어는 제거.\n",
        "# 0번 패딩 토큰을 고려하여 + 1\n",
        "vocab_size = total_cnt - rare_cnt + 1\n",
        "print('단어 집합의 크기 :',vocab_size)"
      ]
    },
    {
      "cell_type": "code",
      "execution_count": 12,
      "metadata": {
        "colab": {
          "base_uri": "https://localhost:8080/"
        },
        "id": "I2cdvV0NeGfj",
        "outputId": "f2850e18-6581-4649-9f85-4ec823683f1c"
      },
      "outputs": [
        {
          "name": "stdout",
          "output_type": "stream",
          "text": [
            "[[598, 163, 4, 503, 89, 164, 6, 45, 322, 10, 378, 149, 3, 5, 211, 3521, 3, 5, 52, 681, 37, 14, 1407], [2944, 1209, 60, 4], [2076, 86, 855, 2, 3, 8, 14, 40]]\n"
          ]
        }
      ],
      "source": [
        "#텍스트 시퀀스 >> 정수 시퀀스\n",
        "tokenizer = Tokenizer(vocab_size) \n",
        "tokenizer.fit_on_texts(tk)\n",
        "tk = tokenizer.texts_to_sequences(tk)\n",
        "print(tk[:3])"
      ]
    },
    {
      "cell_type": "code",
      "execution_count": 13,
      "metadata": {
        "id": "gvD8k_6FeIcR"
      },
      "outputs": [],
      "source": [
        "#target data 따로 지정\n",
        "yy = np.array(df['sentiment'])"
      ]
    },
    {
      "cell_type": "code",
      "execution_count": 14,
      "metadata": {
        "colab": {
          "base_uri": "https://localhost:8080/"
        },
        "id": "NMLF8b8PeMdA",
        "outputId": "f4df31e7-d8ed-4c11-bfc4-35260e5bc4be"
      },
      "outputs": [
        {
          "data": {
            "text/plain": [
              "52"
            ]
          },
          "execution_count": 14,
          "metadata": {},
          "output_type": "execute_result"
        }
      ],
      "source": [
        "# 빈 샘플 제거\n",
        "drop_index = [index for index, sentence in enumerate(tk) if len(sentence) < 1]\n",
        "len(drop_index)"
      ]
    },
    {
      "cell_type": "code",
      "execution_count": 15,
      "metadata": {
        "colab": {
          "base_uri": "https://localhost:8080/"
        },
        "id": "s4xo6oKlePIl",
        "outputId": "10bea640-69bd-4dc8-e950-16457c01f7a9"
      },
      "outputs": [
        {
          "name": "stdout",
          "output_type": "stream",
          "text": [
            "9252\n",
            "9252\n"
          ]
        },
        {
          "name": "stderr",
          "output_type": "stream",
          "text": [
            "C:\\Users\\kdh\\miniconda3\\envs\\nlp\\lib\\site-packages\\numpy\\core\\_asarray.py:83: VisibleDeprecationWarning: Creating an ndarray from ragged nested sequences (which is a list-or-tuple of lists-or-tuples-or ndarrays with different lengths or shapes) is deprecated. If you meant to do this, you must specify 'dtype=object' when creating the ndarray\n",
            "  return array(a, dtype, copy=False, order=order)\n"
          ]
        }
      ],
      "source": [
        "tk = np.delete(tk, drop_index, axis=0)\n",
        "yy = np.delete(yy, drop_index, axis=0)\n",
        "print(len(tk))\n",
        "print(len(yy))"
      ]
    },
    {
      "cell_type": "code",
      "execution_count": 16,
      "metadata": {
        "colab": {
          "base_uri": "https://localhost:8080/",
          "height": 318
        },
        "id": "AO8cglyDeQtb",
        "outputId": "5473fe29-eb8b-416e-b3a3-2ddb8277982c"
      },
      "outputs": [
        {
          "name": "stdout",
          "output_type": "stream",
          "text": [
            "리뷰의 최대 길이 : 334\n",
            "리뷰의 평균 길이 : 17.96011673151751\n"
          ]
        },
        {
          "data": {
            "image/png": "[encoded data removed]",
            "text/plain": [
              "<Figure size 432x288 with 1 Axes>"
            ]
          },
          "metadata": {
            "needs_background": "light"
          },
          "output_type": "display_data"
        }
      ],
      "source": [
        "#패딩\n",
        "print('리뷰의 최대 길이 :',max(len(review) for review in tk))\n",
        "print('리뷰의 평균 길이 :',sum(map(len, tk))/len(tk))\n",
        "plt.hist([len(review) for review in tk], bins=50)\n",
        "plt.xlabel('length of samples')\n",
        "plt.ylabel('number of samples')\n",
        "plt.show()"
      ]
    },
    {
      "cell_type": "code",
      "execution_count": 17,
      "metadata": {
        "colab": {
          "base_uri": "https://localhost:8080/",
          "height": 282
        },
        "id": "C4QPOTGaeSp3",
        "outputId": "c7dc04f9-e012-4133-c1d1-bfedfb89c2a1"
      },
      "outputs": [
        {
          "data": {
            "image/png": "[encoded data removed]",
            "text/plain": [
              "<Figure size 432x288 with 1 Axes>"
            ]
          },
          "metadata": {
            "needs_background": "light"
          },
          "output_type": "display_data"
        }
      ],
      "source": [
        "plt.hist([len(review) for review in tk], bins=50)\n",
        "plt.xlabel('length of samples')\n",
        "plt.ylabel('number of samples')\n",
        "plt.xlim(0, 100)\n",
        "plt.show()"
      ]
    },
    {
      "cell_type": "markdown",
      "metadata": {
        "id": "3UD8qSyYeZdQ"
      },
      "source": [
        "max_len 50으로 결정"
      ]
    },
    {
      "cell_type": "code",
      "execution_count": 18,
      "metadata": {
        "colab": {
          "base_uri": "https://localhost:8080/"
        },
        "id": "hRhaBVSdeVHE",
        "outputId": "08f37935-a9ae-44c6-d78a-e434ea2d2dee"
      },
      "outputs": [
        {
          "name": "stdout",
          "output_type": "stream",
          "text": [
            "전체 샘플 중 길이가 50 이하인 샘플의 비율: 94.74708171206225\n"
          ]
        }
      ],
      "source": [
        "def below_threshold_len(max_len, nested_list):\n",
        "  count = 0\n",
        "  for sentence in nested_list:\n",
        "    if(len(sentence) <= max_len):\n",
        "        count = count + 1\n",
        "  print('전체 샘플 중 길이가 %s 이하인 샘플의 비율: %s'%(max_len, (count / len(nested_list))*100))\n",
        "\n",
        "max_len = 50\n",
        "below_threshold_len(max_len, tk)"
      ]
    },
    {
      "cell_type": "code",
      "execution_count": 19,
      "metadata": {
        "id": "-bTWe5BMeXk7"
      },
      "outputs": [],
      "source": [
        "final = pad_sequences(tk, maxlen=max_len)"
      ]
    },
    {
      "cell_type": "code",
      "execution_count": 20,
      "metadata": {},
      "outputs": [],
      "source": [
        "final_ = list(map(lambda x:[x],final.astype(object)))"
      ]
    },
    {
      "cell_type": "code",
      "execution_count": 21,
      "metadata": {
        "id": "6XCEA6hZed5k"
      },
      "outputs": [],
      "source": [
        "final_df = pd.DataFrame(final_,columns=['word'])\n",
        "y_df = pd.DataFrame(yy)"
      ]
    },
    {
      "cell_type": "code",
      "execution_count": 22,
      "metadata": {
        "colab": {
          "base_uri": "https://localhost:8080/",
          "height": 235
        },
        "id": "ctJzxY1oefsW",
        "outputId": "b0c1d48a-5918-4cc2-9674-66ecb15f7e7f"
      },
      "outputs": [],
      "source": [
        "final_df = pd.concat([final_df, y_df], axis=1)\n",
        "final_df.columns = ['word','label']"
      ]
    },
    {
      "cell_type": "code",
      "execution_count": 23,
      "metadata": {
        "id": "DgG1pKUOehiZ"
      },
      "outputs": [],
      "source": [
        "final_df.to_csv('./data/processed/komoran_df.csv')"
      ]
    }
  ],
  "metadata": {
    "colab": {
      "collapsed_sections": [],
      "name": "mjng_preprocessing_komoran.ipynb",
      "provenance": []
    },
    "kernelspec": {
      "display_name": "Python 3",
      "name": "python3"
    },
    "language_info": {
      "codemirror_mode": {
        "name": "ipython",
        "version": 3
      },
      "file_extension": ".py",
      "mimetype": "text/x-python",
      "name": "python",
      "nbconvert_exporter": "python",
      "pygments_lexer": "ipython3",
      "version": "3.6.13"
    }
  },
  "nbformat": 4,
  "nbformat_minor": 0
}
