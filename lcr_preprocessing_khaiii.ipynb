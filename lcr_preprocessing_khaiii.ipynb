{
  "nbformat": 4,
  "nbformat_minor": 0,
  "metadata": {
    "colab": {
      "name": "lcr_preprocessing_khaiii.ipynb",
      "provenance": [],
      "collapsed_sections": []
    },
    "kernelspec": {
      "name": "python3",
      "display_name": "Python 3"
    },
    "language_info": {
      "name": "python"
    }
  },
  "cells": [
    {
      "cell_type": "code",
      "source": [
        "!git clone https://github.com/kakao/khaiii.git"
      ],
      "metadata": {
        "colab": {
          "base_uri": "https://localhost:8080/"
        },
        "id": "WYKx2LsRsoRs",
        "outputId": "561e6476-5f84-4e98-d7bf-b5be1672aa71"
      },
      "execution_count": 9,
      "outputs": [
        {
          "output_type": "stream",
          "name": "stdout",
          "text": [
            "Cloning into 'khaiii'...\n",
            "remote: Enumerating objects: 1024, done.\u001b[K\n",
            "remote: Counting objects: 100% (8/8), done.\u001b[K\n",
            "remote: Compressing objects: 100% (8/8), done.\u001b[K\n",
            "remote: Total 1024 (delta 3), reused 0 (delta 0), pack-reused 1016\u001b[K\n",
            "Receiving objects: 100% (1024/1024), 33.03 MiB | 28.67 MiB/s, done.\n",
            "Resolving deltas: 100% (436/436), done.\n"
          ]
        }
      ]
    },
    {
      "cell_type": "code",
      "source": [
        "!pip install cmake"
      ],
      "metadata": {
        "colab": {
          "base_uri": "https://localhost:8080/"
        },
        "id": "ghgj7wYDuUmN",
        "outputId": "37d4fd45-1728-4653-f6a6-8632720d8fe5"
      },
      "execution_count": 11,
      "outputs": [
        {
          "output_type": "stream",
          "name": "stdout",
          "text": [
            "Requirement already satisfied: cmake in /usr/local/lib/python3.7/dist-packages (3.12.0)\n"
          ]
        }
      ]
    },
    {
      "cell_type": "code",
      "source": [
        "!mkdir build\n",
        "\n",
        "!cd build && cmake /content/khaiii\n",
        "\n",
        "!cd /content/build/ && make all\n",
        "\n",
        "!cd /content/build/ && make resource\n",
        "\n",
        "!cd /content/build && make install\n",
        "\n",
        "!cd /content/build && make package_python\n",
        "\n",
        "!pip install /content/build/package_python"
      ],
      "metadata": {
        "id": "UQibJ0g9uYS3"
      },
      "execution_count": null,
      "outputs": []
    },
    {
      "cell_type": "code",
      "execution_count": 93,
      "metadata": {
        "id": "6KeVUfAVseB0"
      },
      "outputs": [],
      "source": [
        "from khaiii import KhaiiiApi\n",
        "from tqdm import tqdm     #진행률 확인 모듈\n",
        "from tensorflow.keras.preprocessing.text import Tokenizer\n",
        "from tensorflow.keras.preprocessing.sequence import pad_sequences\n",
        "import numpy as np\n",
        "import re"
      ]
    },
    {
      "cell_type": "code",
      "source": [
        "#작동확인\n",
        "api = KhaiiiApi()\n",
        "for word in api.analyze('안녕, 세상.'):\n",
        "\tprint(word)"
      ],
      "metadata": {
        "colab": {
          "base_uri": "https://localhost:8080/"
        },
        "id": "9cYAys_GsjB-",
        "outputId": "c2ed9969-f776-4114-eec2-9541740fcfb2"
      },
      "execution_count": 2,
      "outputs": [
        {
          "output_type": "stream",
          "name": "stdout",
          "text": [
            "안녕,\t안녕/IC + ,/SP\n",
            "세상.\t세상/NNG + ./SF\n"
          ]
        }
      ]
    },
    {
      "cell_type": "code",
      "source": [
        "import pandas as pd\n",
        "df = pd.read_csv('/content/base_df.csv')"
      ],
      "metadata": {
        "id": "ZqnTLfWlyZzJ"
      },
      "execution_count": 4,
      "outputs": []
    },
    {
      "cell_type": "code",
      "source": [
        "df.head()"
      ],
      "metadata": {
        "colab": {
          "base_uri": "https://localhost:8080/",
          "height": 302
        },
        "id": "R-qYkiUi2rbZ",
        "outputId": "8ed83bd4-ca04-42e0-d836-7df371b1f2d5"
      },
      "execution_count": 42,
      "outputs": [
        {
          "output_type": "execute_result",
          "data": {
            "text/plain": [
              "   Unnamed: 0        id          title  \\\n",
              "0           0  17998769  반지의 제왕: 왕의 귀환   \n",
              "1           1  17998767       나일 강의 죽음   \n",
              "2           2  17998766           킹메이커   \n",
              "3           3  17998765          기억의 밤   \n",
              "4           4  17998764          더 배트맨   \n",
              "\n",
              "                                              review  score  sentiment  \n",
              "0  판타지를 넘어 영화 역사에 남을 명작이다 내가 이걸 왜 극장에서 못봤을까 폰으로 봤...   10.0          1  \n",
              "1                                      이집트여행하는느낌의 영화    8.0          1  \n",
              "2                              목포 연설 장면은 넋을 잃고 보게 된다   10.0          1  \n",
              "3                                  그저 그렇네요 뻔한 반전과 결말    4.0          0  \n",
              "4                더 배트맨 조커처럼 몰입감이 있으면 추천 반대로 지루하면 비추천    1.0          0  "
            ],
            "text/html": [
              "\n",
              "  <div id=\"df-fa1c1870-35df-401b-bdc1-89b07ba0f4a0\">\n",
              "    <div class=\"colab-df-container\">\n",
              "      <div>\n",
              "<style scoped>\n",
              "    .dataframe tbody tr th:only-of-type {\n",
              "        vertical-align: middle;\n",
              "    }\n",
              "\n",
              "    .dataframe tbody tr th {\n",
              "        vertical-align: top;\n",
              "    }\n",
              "\n",
              "    .dataframe thead th {\n",
              "        text-align: right;\n",
              "    }\n",
              "</style>\n",
              "<table border=\"1\" class=\"dataframe\">\n",
              "  <thead>\n",
              "    <tr style=\"text-align: right;\">\n",
              "      <th></th>\n",
              "      <th>Unnamed: 0</th>\n",
              "      <th>id</th>\n",
              "      <th>title</th>\n",
              "      <th>review</th>\n",
              "      <th>score</th>\n",
              "      <th>sentiment</th>\n",
              "    </tr>\n",
              "  </thead>\n",
              "  <tbody>\n",
              "    <tr>\n",
              "      <th>0</th>\n",
              "      <td>0</td>\n",
              "      <td>17998769</td>\n",
              "      <td>반지의 제왕: 왕의 귀환</td>\n",
              "      <td>판타지를 넘어 영화 역사에 남을 명작이다 내가 이걸 왜 극장에서 못봤을까 폰으로 봤...</td>\n",
              "      <td>10.0</td>\n",
              "      <td>1</td>\n",
              "    </tr>\n",
              "    <tr>\n",
              "      <th>1</th>\n",
              "      <td>1</td>\n",
              "      <td>17998767</td>\n",
              "      <td>나일 강의 죽음</td>\n",
              "      <td>이집트여행하는느낌의 영화</td>\n",
              "      <td>8.0</td>\n",
              "      <td>1</td>\n",
              "    </tr>\n",
              "    <tr>\n",
              "      <th>2</th>\n",
              "      <td>2</td>\n",
              "      <td>17998766</td>\n",
              "      <td>킹메이커</td>\n",
              "      <td>목포 연설 장면은 넋을 잃고 보게 된다</td>\n",
              "      <td>10.0</td>\n",
              "      <td>1</td>\n",
              "    </tr>\n",
              "    <tr>\n",
              "      <th>3</th>\n",
              "      <td>3</td>\n",
              "      <td>17998765</td>\n",
              "      <td>기억의 밤</td>\n",
              "      <td>그저 그렇네요 뻔한 반전과 결말</td>\n",
              "      <td>4.0</td>\n",
              "      <td>0</td>\n",
              "    </tr>\n",
              "    <tr>\n",
              "      <th>4</th>\n",
              "      <td>4</td>\n",
              "      <td>17998764</td>\n",
              "      <td>더 배트맨</td>\n",
              "      <td>더 배트맨 조커처럼 몰입감이 있으면 추천 반대로 지루하면 비추천</td>\n",
              "      <td>1.0</td>\n",
              "      <td>0</td>\n",
              "    </tr>\n",
              "  </tbody>\n",
              "</table>\n",
              "</div>\n",
              "      <button class=\"colab-df-convert\" onclick=\"convertToInteractive('df-fa1c1870-35df-401b-bdc1-89b07ba0f4a0')\"\n",
              "              title=\"Convert this dataframe to an interactive table.\"\n",
              "              style=\"display:none;\">\n",
              "        \n",
              "  <svg xmlns=\"http://www.w3.org/2000/svg\" height=\"24px\"viewBox=\"0 0 24 24\"\n",
              "       width=\"24px\">\n",
              "    <path d=\"M0 0h24v24H0V0z\" fill=\"none\"/>\n",
              "    <path d=\"M18.56 5.44l.94 2.06.94-2.06 2.06-.94-2.06-.94-.94-2.06-.94 2.06-2.06.94zm-11 1L8.5 8.5l.94-2.06 2.06-.94-2.06-.94L8.5 2.5l-.94 2.06-2.06.94zm10 10l.94 2.06.94-2.06 2.06-.94-2.06-.94-.94-2.06-.94 2.06-2.06.94z\"/><path d=\"M17.41 7.96l-1.37-1.37c-.4-.4-.92-.59-1.43-.59-.52 0-1.04.2-1.43.59L10.3 9.45l-7.72 7.72c-.78.78-.78 2.05 0 2.83L4 21.41c.39.39.9.59 1.41.59.51 0 1.02-.2 1.41-.59l7.78-7.78 2.81-2.81c.8-.78.8-2.07 0-2.86zM5.41 20L4 18.59l7.72-7.72 1.47 1.35L5.41 20z\"/>\n",
              "  </svg>\n",
              "      </button>\n",
              "      \n",
              "  <style>\n",
              "    .colab-df-container {\n",
              "      display:flex;\n",
              "      flex-wrap:wrap;\n",
              "      gap: 12px;\n",
              "    }\n",
              "\n",
              "    .colab-df-convert {\n",
              "      background-color: #E8F0FE;\n",
              "      border: none;\n",
              "      border-radius: 50%;\n",
              "      cursor: pointer;\n",
              "      display: none;\n",
              "      fill: #1967D2;\n",
              "      height: 32px;\n",
              "      padding: 0 0 0 0;\n",
              "      width: 32px;\n",
              "    }\n",
              "\n",
              "    .colab-df-convert:hover {\n",
              "      background-color: #E2EBFA;\n",
              "      box-shadow: 0px 1px 2px rgba(60, 64, 67, 0.3), 0px 1px 3px 1px rgba(60, 64, 67, 0.15);\n",
              "      fill: #174EA6;\n",
              "    }\n",
              "\n",
              "    [theme=dark] .colab-df-convert {\n",
              "      background-color: #3B4455;\n",
              "      fill: #D2E3FC;\n",
              "    }\n",
              "\n",
              "    [theme=dark] .colab-df-convert:hover {\n",
              "      background-color: #434B5C;\n",
              "      box-shadow: 0px 1px 3px 1px rgba(0, 0, 0, 0.15);\n",
              "      filter: drop-shadow(0px 1px 2px rgba(0, 0, 0, 0.3));\n",
              "      fill: #FFFFFF;\n",
              "    }\n",
              "  </style>\n",
              "\n",
              "      <script>\n",
              "        const buttonEl =\n",
              "          document.querySelector('#df-fa1c1870-35df-401b-bdc1-89b07ba0f4a0 button.colab-df-convert');\n",
              "        buttonEl.style.display =\n",
              "          google.colab.kernel.accessAllowed ? 'block' : 'none';\n",
              "\n",
              "        async function convertToInteractive(key) {\n",
              "          const element = document.querySelector('#df-fa1c1870-35df-401b-bdc1-89b07ba0f4a0');\n",
              "          const dataTable =\n",
              "            await google.colab.kernel.invokeFunction('convertToInteractive',\n",
              "                                                     [key], {});\n",
              "          if (!dataTable) return;\n",
              "\n",
              "          const docLinkHtml = 'Like what you see? Visit the ' +\n",
              "            '<a target=\"_blank\" href=https://colab.research.google.com/notebooks/data_table.ipynb>data table notebook</a>'\n",
              "            + ' to learn more about interactive tables.';\n",
              "          element.innerHTML = '';\n",
              "          dataTable['output_type'] = 'display_data';\n",
              "          await google.colab.output.renderOutput(dataTable, element);\n",
              "          const docLink = document.createElement('div');\n",
              "          docLink.innerHTML = docLinkHtml;\n",
              "          element.appendChild(docLink);\n",
              "        }\n",
              "      </script>\n",
              "    </div>\n",
              "  </div>\n",
              "  "
            ]
          },
          "metadata": {},
          "execution_count": 42
        }
      ]
    },
    {
      "cell_type": "code",
      "source": [
        "stopwords = pd.read_table('/content/stopwords.txt')"
      ],
      "metadata": {
        "id": "eV7gfwT82wG9"
      },
      "execution_count": 7,
      "outputs": []
    },
    {
      "cell_type": "code",
      "source": [
        "X_train = []\n",
        "for sentence in tqdm(df['review'][:7465]): # 데이터의 80%를 train 데이터로 쪼갬\n",
        "    lst = []\n",
        "    for word in api.analyze(sentence):\n",
        "        for morph in word.morphs:\n",
        "            if not morph in stopwords:\n",
        "                lst.append(morph.lex)\n",
        "    X_train.append(lst)            "
      ],
      "metadata": {
        "colab": {
          "base_uri": "https://localhost:8080/"
        },
        "id": "Sr4LpWDi5Sho",
        "outputId": "b2b50168-b9a5-44a1-c43b-6b4dba9a9780"
      },
      "execution_count": 72,
      "outputs": [
        {
          "output_type": "stream",
          "name": "stderr",
          "text": [
            "100%|██████████| 7465/7465 [00:12<00:00, 613.77it/s]\n"
          ]
        }
      ]
    },
    {
      "cell_type": "code",
      "source": [
        "X_train[:5]"
      ],
      "metadata": {
        "id": "u6KJhRAv6H-8"
      },
      "execution_count": null,
      "outputs": []
    },
    {
      "cell_type": "code",
      "source": [
        "X_test = []\n",
        "for sentence in tqdm(df['review'][7465:]): # 데이터의 80%를 train 데이터로 쪼갬\n",
        "    lst = []\n",
        "    for word in api.analyze(sentence):\n",
        "        for morph in word.morphs:\n",
        "            if not morph in stopwords:\n",
        "                lst.append(morph.lex)\n",
        "    X_test.append(lst)"
      ],
      "metadata": {
        "colab": {
          "base_uri": "https://localhost:8080/"
        },
        "id": "q0wYKuvT93bl",
        "outputId": "f4e873bc-0f20-41cf-fbbe-a64400e64d85"
      },
      "execution_count": 74,
      "outputs": [
        {
          "output_type": "stream",
          "name": "stderr",
          "text": [
            "100%|██████████| 1839/1839 [00:03<00:00, 508.90it/s]\n"
          ]
        }
      ]
    },
    {
      "cell_type": "markdown",
      "source": [
        "### 정수인코딩"
      ],
      "metadata": {
        "id": "L7Xck2kX8-cU"
      }
    },
    {
      "cell_type": "code",
      "source": [
        "tokenizer = Tokenizer()\n",
        "tokenizer.fit_on_texts(X_train)"
      ],
      "metadata": {
        "id": "9Q_eeqLD68KG"
      },
      "execution_count": 75,
      "outputs": []
    },
    {
      "cell_type": "code",
      "source": [
        "threshold = 3\n",
        "total_cnt = len(tokenizer.word_index) # 단어의 수\n",
        "rare_cnt = 0 # 등장 빈도수가 threshold보다 작은 단어의 개수를 카운트\n",
        "total_freq = 0 # 훈련 데이터의 전체 단어 빈도수 총 합\n",
        "rare_freq = 0 # 등장 빈도수가 threshold보다 작은 단어의 등장 빈도수의 총 합\n",
        "\n",
        "# 단어와 빈도수의 쌍(pair)을 key와 value로 받는다.\n",
        "for key, value in tokenizer.word_counts.items():\n",
        "    total_freq = total_freq + value\n",
        "\n",
        "    # 단어의 등장 빈도수가 threshold보다 작으면\n",
        "    if(value < threshold):\n",
        "        rare_cnt = rare_cnt + 1\n",
        "        rare_freq = rare_freq + value\n",
        "\n",
        "print('단어 집합(vocabulary)의 크기 :',total_cnt)\n",
        "print('등장 빈도가 %s번 이하인 희귀 단어의 수: %s'%(threshold - 1, rare_cnt))\n",
        "print(\"단어 집합에서 희귀 단어의 비율:\", (rare_cnt / total_cnt)*100)\n",
        "print(\"전체 등장 빈도에서 희귀 단어 등장 빈도 비율:\", (rare_freq / total_freq)*100)"
      ],
      "metadata": {
        "colab": {
          "base_uri": "https://localhost:8080/"
        },
        "id": "LUp9rvNB8c29",
        "outputId": "d414bc74-582a-463c-ee57-edbff0d44cec"
      },
      "execution_count": 76,
      "outputs": [
        {
          "output_type": "stream",
          "name": "stdout",
          "text": [
            "단어 집합(vocabulary)의 크기 : 14782\n",
            "등장 빈도가 2번 이하인 희귀 단어의 수: 10823\n",
            "단어 집합에서 희귀 단어의 비율: 73.21742659991882\n",
            "전체 등장 빈도에서 희귀 단어 등장 빈도 비율: 6.257575232884302\n"
          ]
        }
      ]
    },
    {
      "cell_type": "code",
      "source": [
        "# 전체 단어 개수 중 빈도수 2이하인 단어는 제거.\n",
        "# 0번 패딩 토큰을 고려하여 + 1\n",
        "vocab_size = total_cnt - rare_cnt + 1\n",
        "print('단어 집합의 크기 :',vocab_size)"
      ],
      "metadata": {
        "colab": {
          "base_uri": "https://localhost:8080/"
        },
        "id": "mlpGVsIO8whB",
        "outputId": "8565dc1b-2c5e-4d33-9c52-33bfea4ee7ea"
      },
      "execution_count": 77,
      "outputs": [
        {
          "output_type": "stream",
          "name": "stdout",
          "text": [
            "단어 집합의 크기 : 3960\n"
          ]
        }
      ]
    },
    {
      "cell_type": "code",
      "source": [
        "tokenizer = Tokenizer(vocab_size) \n",
        "tokenizer.fit_on_texts(X_train)\n",
        "X_train = tokenizer.texts_to_sequences(X_train)\n",
        "X_test = tokenizer.texts_to_sequences(X_test)"
      ],
      "metadata": {
        "id": "dOmzQPsd828r"
      },
      "execution_count": 78,
      "outputs": []
    },
    {
      "cell_type": "code",
      "source": [
        "print(X_train[:3])\n",
        "print(X_test[:3])            "
      ],
      "metadata": {
        "colab": {
          "base_uri": "https://localhost:8080/"
        },
        "id": "Kp8eYpoo88kc",
        "outputId": "53413860-2935-4f20-ac07-444fd9ce0d31"
      },
      "execution_count": 79,
      "outputs": [
        {
          "output_type": "stream",
          "name": "stdout",
          "text": [
            "[[640, 23, 226, 21, 8, 585, 12, 139, 13, 220, 1, 7, 102, 10, 116, 17, 103, 333, 47, 133, 6, 16, 258, 3102, 32, 6, 16, 13, 98, 9, 74, 45, 4, 755, 10, 57, 27, 17, 328, 1, 99], [3103, 1088, 2, 4, 96, 9, 8], [2262, 129, 11, 13, 884, 5, 6, 18, 27, 60]]\n",
            "[[685, 1172, 28, 87, 5, 483, 1172, 11, 611, 1, 124, 53, 2, 29, 34, 51, 53, 13, 3140, 1185, 21, 439, 15, 13, 98, 6, 4, 1460, 45, 158, 791, 1, 27, 3, 20, 940, 6, 4, 1460, 1, 1618, 68, 143, 142, 35, 74, 31, 1, 5, 59, 15, 36], [132, 22, 15, 122, 1, 411, 190, 394, 1908, 49, 5, 75, 63, 1276, 14, 371], [100, 70, 888, 92, 17, 48, 22, 15, 7]]\n"
          ]
        }
      ]
    },
    {
      "cell_type": "code",
      "source": [
        "y_train = np.array(df['sentiment'][:7465])\n",
        "y_test = np.array(df['sentiment'][7465:])"
      ],
      "metadata": {
        "id": "n6oD3N1KA4zl"
      },
      "execution_count": 80,
      "outputs": []
    },
    {
      "cell_type": "code",
      "source": [
        "print(len(y_train),len(y_test))"
      ],
      "metadata": {
        "colab": {
          "base_uri": "https://localhost:8080/"
        },
        "id": "oxCN2KbkBrE-",
        "outputId": "7bff6eea-0ddf-425e-fa69-896fc9efe040"
      },
      "execution_count": 81,
      "outputs": [
        {
          "output_type": "stream",
          "name": "stdout",
          "text": [
            "7465 1839\n"
          ]
        }
      ]
    },
    {
      "cell_type": "markdown",
      "source": [
        "### 빈 샘플(empty samples) 제거"
      ],
      "metadata": {
        "id": "9VV_BQ5gB154"
      }
    },
    {
      "cell_type": "code",
      "source": [
        "drop_train = [index for index, sentence in enumerate(X_train) if len(sentence) < 1] # X_train에서 길이가 0인 샘플 index리스트\n",
        "print(len(drop_train))"
      ],
      "metadata": {
        "colab": {
          "base_uri": "https://localhost:8080/"
        },
        "id": "TZJGDT6oBPHh",
        "outputId": "77e5dc71-83e4-4239-932b-cad78a481aa3"
      },
      "execution_count": 82,
      "outputs": [
        {
          "output_type": "stream",
          "name": "stdout",
          "text": [
            "19\n"
          ]
        }
      ]
    },
    {
      "cell_type": "code",
      "source": [
        "# 빈 샘플들을 제거\n",
        "X_train = np.delete(X_train, drop_train, axis=0)\n",
        "y_train = np.delete(y_train, drop_train, axis=0)\n",
        "print(len(X_train))\n",
        "print(len(y_train))"
      ],
      "metadata": {
        "colab": {
          "base_uri": "https://localhost:8080/"
        },
        "id": "om4Y7qEmBT1c",
        "outputId": "c990f473-6d3b-4b80-f133-8605cd25387b"
      },
      "execution_count": 83,
      "outputs": [
        {
          "output_type": "stream",
          "name": "stdout",
          "text": [
            "7446\n",
            "7446\n"
          ]
        },
        {
          "output_type": "stream",
          "name": "stderr",
          "text": [
            "/usr/local/lib/python3.7/dist-packages/numpy/lib/function_base.py:4454: VisibleDeprecationWarning: Creating an ndarray from ragged nested sequences (which is a list-or-tuple of lists-or-tuples-or ndarrays with different lengths or shapes) is deprecated. If you meant to do this, you must specify 'dtype=object' when creating the ndarray.\n",
            "  arr = asarray(arr)\n"
          ]
        }
      ]
    },
    {
      "cell_type": "markdown",
      "source": [
        "### 패딩"
      ],
      "metadata": {
        "id": "8YxK0nZKJ1JS"
      }
    },
    {
      "cell_type": "code",
      "source": [
        "import matplotlib.pyplot as plt\n",
        "\n",
        "print('리뷰의 최대 길이 :',max(len(review) for review in X_train))\n",
        "print('리뷰의 평균 길이 :',sum(map(len, X_train))/len(X_train))\n",
        "plt.hist([len(review) for review in X_train], bins=50)\n",
        "plt.xlabel('length of samples')\n",
        "plt.ylabel('number of samples')\n",
        "plt.show()"
      ],
      "metadata": {
        "colab": {
          "base_uri": "https://localhost:8080/",
          "height": 315
        },
        "id": "mRtX3CVEBavG",
        "outputId": "f0a04025-df80-43d9-8190-3779adfb60a7"
      },
      "execution_count": 84,
      "outputs": [
        {
          "output_type": "stream",
          "name": "stdout",
          "text": [
            "리뷰의 최대 길이 : 465\n",
            "리뷰의 평균 길이 : 25.44856298683857\n"
          ]
        },
        {
          "output_type": "display_data",
          "data": {
            "text/plain": [
              "<Figure size 432x288 with 1 Axes>"
            ],
            "image/png": "[encoded data removed]"
          },
          "metadata": {
            "needs_background": "light"
          }
        }
      ]
    },
    {
      "cell_type": "code",
      "source": [
        "def below_threshold_len(max_len, nested_list):\n",
        "    count = 0\n",
        "    for sentence in nested_list:\n",
        "        if(len(sentence) <= max_len):\n",
        "            count = count + 1\n",
        "    print('전체 샘플 중 길이가 %s 이하인 샘플의 비율: %s'%(max_len, (count / len(nested_list))*100))"
      ],
      "metadata": {
        "id": "QWA8odCbJ7AE"
      },
      "execution_count": 85,
      "outputs": []
    },
    {
      "cell_type": "code",
      "source": [
        "max_len = 50\n",
        "below_threshold_len(max_len, X_train)"
      ],
      "metadata": {
        "colab": {
          "base_uri": "https://localhost:8080/"
        },
        "id": "wWZrWJEVJ_5-",
        "outputId": "2a792699-d1de-4618-f92f-79ed80411bdc"
      },
      "execution_count": 86,
      "outputs": [
        {
          "output_type": "stream",
          "name": "stdout",
          "text": [
            "전체 샘플 중 길이가 50 이하인 샘플의 비율: 89.2962664517862\n"
          ]
        }
      ]
    },
    {
      "cell_type": "code",
      "source": [
        "X_train = pad_sequences(X_train, maxlen=max_len)\n",
        "X_test = pad_sequences(X_test, maxlen=max_len)"
      ],
      "metadata": {
        "id": "fAGYAhCpKBuc"
      },
      "execution_count": 87,
      "outputs": []
    },
    {
      "cell_type": "markdown",
      "source": [
        "### LSTM"
      ],
      "metadata": {
        "id": "YecUb7TQKIXG"
      }
    },
    {
      "cell_type": "code",
      "source": [
        "from tensorflow.keras.layers import Embedding, Dense, LSTM\n",
        "from tensorflow.keras.models import Sequential\n",
        "from tensorflow.keras.models import load_model\n",
        "from tensorflow.keras.callbacks import EarlyStopping, ModelCheckpoint\n",
        "\n",
        "embedding_dim = 100\n",
        "hidden_units = 128\n",
        "\n",
        "model = Sequential()\n",
        "model.add(Embedding(vocab_size, embedding_dim))\n",
        "model.add(LSTM(hidden_units))\n",
        "model.add(Dense(1, activation='sigmoid'))\n",
        "\n",
        "es = EarlyStopping(monitor='val_loss', mode='min', verbose=1, patience=4)\n",
        "mc = ModelCheckpoint('lcr_lstm_model.h5', monitor='val_acc', mode='max', verbose=1, save_best_only=True)\n",
        "\n",
        "model.compile(optimizer='rmsprop', loss='binary_crossentropy', metrics=['acc'])\n",
        "history = model.fit(X_train, y_train, epochs=15, callbacks=[es, mc], batch_size=64, validation_split=0.2)\n"
      ],
      "metadata": {
        "colab": {
          "base_uri": "https://localhost:8080/"
        },
        "id": "pu81jAv3KET1",
        "outputId": "df84fc63-6e86-4b59-dd17-d1f08808fa49"
      },
      "execution_count": 89,
      "outputs": [
        {
          "output_type": "stream",
          "name": "stdout",
          "text": [
            "Epoch 1/15\n",
            "94/94 [==============================] - ETA: 0s - loss: 0.6178 - acc: 0.6702\n",
            "Epoch 1: val_acc improved from -inf to 0.71879, saving model to lcr_lstm_model.h5\n",
            "94/94 [==============================] - 20s 190ms/step - loss: 0.6178 - acc: 0.6702 - val_loss: 0.5294 - val_acc: 0.7188\n",
            "Epoch 2/15\n",
            "93/94 [============================>.] - ETA: 0s - loss: 0.4636 - acc: 0.7853\n",
            "Epoch 2: val_acc improved from 0.71879 to 0.73490, saving model to lcr_lstm_model.h5\n",
            "94/94 [==============================] - 20s 208ms/step - loss: 0.4635 - acc: 0.7853 - val_loss: 0.5240 - val_acc: 0.7349\n",
            "Epoch 3/15\n",
            "93/94 [============================>.] - ETA: 0s - loss: 0.3968 - acc: 0.8244\n",
            "Epoch 3: val_acc improved from 0.73490 to 0.74966, saving model to lcr_lstm_model.h5\n",
            "94/94 [==============================] - 12s 133ms/step - loss: 0.3967 - acc: 0.8245 - val_loss: 0.5492 - val_acc: 0.7497\n",
            "Epoch 4/15\n",
            "93/94 [============================>.] - ETA: 0s - loss: 0.3613 - acc: 0.8417\n",
            "Epoch 4: val_acc did not improve from 0.74966\n",
            "94/94 [==============================] - 12s 131ms/step - loss: 0.3615 - acc: 0.8417 - val_loss: 0.6809 - val_acc: 0.6906\n",
            "Epoch 5/15\n",
            "93/94 [============================>.] - ETA: 0s - loss: 0.3309 - acc: 0.8611\n",
            "Epoch 5: val_acc did not improve from 0.74966\n",
            "94/94 [==============================] - 13s 133ms/step - loss: 0.3309 - acc: 0.8610 - val_loss: 0.6241 - val_acc: 0.7195\n",
            "Epoch 6/15\n",
            "93/94 [============================>.] - ETA: 0s - loss: 0.3066 - acc: 0.8730\n",
            "Epoch 6: val_acc improved from 0.74966 to 0.76577, saving model to lcr_lstm_model.h5\n",
            "94/94 [==============================] - 12s 133ms/step - loss: 0.3065 - acc: 0.8729 - val_loss: 0.5727 - val_acc: 0.7658\n",
            "Epoch 6: early stopping\n"
          ]
        }
      ]
    },
    {
      "cell_type": "code",
      "source": [
        "loaded_model = load_model('lcr_lstm_model.h5')\n",
        "print(\"\\n 테스트 정확도: %.4f\" % (loaded_model.evaluate(X_test, y_test)[1]))"
      ],
      "metadata": {
        "colab": {
          "base_uri": "https://localhost:8080/"
        },
        "id": "rt2qIJOgKNX-",
        "outputId": "a9cb830c-300e-496e-ee5e-72be671cdf3c"
      },
      "execution_count": 90,
      "outputs": [
        {
          "output_type": "stream",
          "name": "stdout",
          "text": [
            "58/58 [==============================] - 3s 30ms/step - loss: 0.5903 - acc: 0.7607\n",
            "\n",
            " 테스트 정확도: 0.7607\n"
          ]
        }
      ]
    }
  ]
}